{
 "cells": [
  {
   "cell_type": "markdown",
   "metadata": {},
   "source": [
    "# Part I. ETL Pipeline for Pre-Processing the Files"
   ]
  },
  {
   "cell_type": "markdown",
   "metadata": {},
   "source": [
    "## PLEASE RUN THE FOLLOWING CODE FOR PRE-PROCESSING THE FILES"
   ]
  },
  {
   "cell_type": "markdown",
   "metadata": {},
   "source": [
    "#### Import Python packages "
   ]
  },
  {
   "cell_type": "code",
   "execution_count": 1,
   "metadata": {},
   "outputs": [],
   "source": [
    "# Import Python packages \n",
    "import pandas as pd\n",
    "import cassandra\n",
    "import re\n",
    "import os\n",
    "import glob\n",
    "import numpy as np\n",
    "import json\n",
    "import csv"
   ]
  },
  {
   "cell_type": "markdown",
   "metadata": {},
   "source": [
    "#### Creating list of filepaths to process original event csv data files"
   ]
  },
  {
   "cell_type": "code",
   "execution_count": 2,
   "metadata": {},
   "outputs": [
    {
     "name": "stdout",
     "output_type": "stream",
     "text": [
      "/workspace/home\n"
     ]
    }
   ],
   "source": [
    "# checking your current working directory\n",
    "print(os.getcwd())\n",
    "\n",
    "# Get your current folder and subfolder event data\n",
    "filepath = os.getcwd() + '/event_data'\n",
    "\n",
    "# Create a for loop to create a list of files and collect each filepath\n",
    "for root, dirs, files in os.walk(filepath):\n",
    "    \n",
    "# join the file path and roots with the subdirectories using glob\n",
    "    file_path_list = glob.glob(os.path.join(root,'*'))\n",
    "    #print(file_path_list)"
   ]
  },
  {
   "cell_type": "markdown",
   "metadata": {},
   "source": [
    "#### Processing the files to create the data file csv that will be used for Apache Casssandra tables"
   ]
  },
  {
   "cell_type": "code",
   "execution_count": 3,
   "metadata": {},
   "outputs": [],
   "source": [
    "# initiating an empty list of rows that will be generated from each file\n",
    "full_data_rows_list = [] \n",
    "    \n",
    "# for every filepath in the file path list \n",
    "for f in file_path_list:\n",
    "\n",
    "# reading csv file \n",
    "    with open(f, 'r', encoding = 'utf8', newline='') as csvfile: \n",
    "        # creating a csv reader object \n",
    "        csvreader = csv.reader(csvfile) \n",
    "        next(csvreader)\n",
    "        \n",
    " # extracting each data row one by one and append it        \n",
    "        for line in csvreader:\n",
    "            #print(line)\n",
    "            full_data_rows_list.append(line) \n",
    "            \n",
    "# uncomment the code below if you would like to get total number of rows \n",
    "#print(len(full_data_rows_list))\n",
    "# uncomment the code below if you would like to check to see what the list of event data rows will look like\n",
    "#print(full_data_rows_list)\n",
    "\n",
    "# creating a smaller event data csv file called event_datafile_full csv that will be used to insert data into the \\\n",
    "# Apache Cassandra tables\n",
    "csv.register_dialect('myDialect', quoting=csv.QUOTE_ALL, skipinitialspace=True)\n",
    "\n",
    "with open('event_datafile_new.csv', 'w', encoding = 'utf8', newline='') as f:\n",
    "    writer = csv.writer(f, dialect='myDialect')\n",
    "    writer.writerow(['artist','firstName','gender','itemInSession','lastName','length',\\\n",
    "                'level','location','sessionId','song','userId'])\n",
    "    for row in full_data_rows_list:\n",
    "        if (row[0] == ''):\n",
    "            continue\n",
    "        writer.writerow((row[0], row[2], row[3], row[4], row[5], row[6], row[7], row[8], row[12], row[13], row[16]))\n"
   ]
  },
  {
   "cell_type": "code",
   "execution_count": 4,
   "metadata": {},
   "outputs": [
    {
     "name": "stdout",
     "output_type": "stream",
     "text": [
      "6821\n"
     ]
    }
   ],
   "source": [
    "# check the number of rows in your csv file\n",
    "with open('event_datafile_new.csv', 'r', encoding = 'utf8') as f:\n",
    "    print(sum(1 for line in f))"
   ]
  },
  {
   "cell_type": "markdown",
   "metadata": {},
   "source": [
    "# Part II. Complete the Apache Cassandra coding portion of your project. \n",
    "\n",
    "## Now you are ready to work with the CSV file titled <font color=red>event_datafile_new.csv</font>, located within the Workspace directory.  The event_datafile_new.csv contains the following columns: \n",
    "- artist \n",
    "- firstName of user\n",
    "- gender of user\n",
    "- item number in session\n",
    "- last name of user\n",
    "- length of the song\n",
    "- level (paid or free song)\n",
    "- location of the user\n",
    "- sessionId\n",
    "- song title\n",
    "- userId\n",
    "\n",
    "The image below is a screenshot of what the denormalized data should appear like in the <font color=red>**event_datafile_new.csv**</font> after the code above is run:<br>\n",
    "\n",
    "<img src=\"images/image_event_datafile_new.jpg\">"
   ]
  },
  {
   "cell_type": "markdown",
   "metadata": {},
   "source": [
    "## Begin writing your Apache Cassandra code in the cells below"
   ]
  },
  {
   "cell_type": "markdown",
   "metadata": {},
   "source": [
    "#### Creating a Cluster"
   ]
  },
  {
   "cell_type": "code",
   "execution_count": 5,
   "metadata": {},
   "outputs": [],
   "source": [
    "# This should make a connection to a Cassandra instance your local machine \n",
    "# (127.0.0.1)\n",
    "\n",
    "from cassandra.cluster import Cluster\n",
    "cluster = Cluster()\n",
    "\n",
    "# To establish connection and begin executing queries, need a session\n",
    "session = cluster.connect()"
   ]
  },
  {
   "cell_type": "markdown",
   "metadata": {},
   "source": [
    "#### Create Keyspace"
   ]
  },
  {
   "cell_type": "code",
   "execution_count": 6,
   "metadata": {},
   "outputs": [],
   "source": [
    "# TO-DO: Create a Keyspace \n",
    "try:\n",
    "    session.execute(\"\"\"\n",
    "    CREATE KEYSPACE IF NOT EXISTS project_1 \n",
    "    WITH REPLICATION = \n",
    "    { 'class' : 'SimpleStrategy', 'replication_factor' : 1 }\"\"\"\n",
    ")\n",
    "\n",
    "except Exception as e:\n",
    "    print(e)"
   ]
  },
  {
   "cell_type": "markdown",
   "metadata": {},
   "source": [
    "#### Set Keyspace"
   ]
  },
  {
   "cell_type": "code",
   "execution_count": 7,
   "metadata": {},
   "outputs": [],
   "source": [
    "# TO-DO: Set KEYSPACE to the keyspace specified above\n",
    "try:\n",
    "    session.set_keyspace('project_1')\n",
    "except Exception as e:\n",
    "    print(e)"
   ]
  },
  {
   "cell_type": "markdown",
   "metadata": {},
   "source": [
    "### Now we need to create tables to run the following queries. Remember, with Apache Cassandra you model the database tables on the queries you want to run."
   ]
  },
  {
   "cell_type": "code",
   "execution_count": 8,
   "metadata": {},
   "outputs": [],
   "source": [
    "query = \"\"\"CREATE TABLE IF NOT EXISTS music_app_history (\n",
    "        sessionid INT,\n",
    "        iteminsession INT,\n",
    "        userid INT,\n",
    "        artist TEXT,\n",
    "        songtitle TEXT,\n",
    "        firstname TEXT,\n",
    "        lastname TEXT,\n",
    "        length DOUBLE,\n",
    "        gender TEXT,\n",
    "        level TEXT,\n",
    "        location TEXT,\n",
    "        PRIMARY KEY ((sessionid, iteminsession), userid)\n",
    "    ) \"\"\"\n",
    "try:\n",
    "    session.execute(query)\n",
    "except Exception as e:\n",
    "    print(e)"
   ]
  },
  {
   "cell_type": "code",
   "execution_count": 9,
   "metadata": {},
   "outputs": [],
   "source": [
    "query = \"\"\"CREATE TABLE IF NOT EXISTS songsbyusersession (\n",
    "            userid INT,\n",
    "            sessionid INT,\n",
    "            iteminsession INT,\n",
    "            artist TEXT,\n",
    "            songtitle TEXT,\n",
    "            firstname TEXT,\n",
    "            lastname TEXT,\n",
    "            length DOUBLE,\n",
    "            gender TEXT,\n",
    "            level TEXT,\n",
    "            location TEXT,\n",
    "            PRIMARY KEY (userid, sessionid, iteminsession)\n",
    "        )\"\"\"\n",
    "try:\n",
    "    session.execute(query)\n",
    "except Exception as e:\n",
    "    print(e)"
   ]
  },
  {
   "cell_type": "code",
   "execution_count": 10,
   "metadata": {},
   "outputs": [],
   "source": [
    "query = \"\"\"CREATE TABLE IF NOT EXISTS usersbysong (\n",
    "            songtitle TEXT,\n",
    "            userid INT,\n",
    "            firstname TEXT,\n",
    "            lastname TEXT,\n",
    "            PRIMARY KEY (songtitle, userid)\n",
    "        )\"\"\"\n",
    "try:\n",
    "    session.execute(query)\n",
    "except Exception as e:\n",
    "    print(e)"
   ]
  },
  {
   "cell_type": "markdown",
   "metadata": {},
   "source": [
    "## Create queries to ask the following three questions of the data\n",
    "\n",
    "### 1. Give me the artist, song title and song's length in the music app history that was heard during  sessionId = 338, and itemInSession  = 4\n",
    "\n",
    "\n",
    "### 2. Give me only the following: name of artist, song (sorted by itemInSession) and user (first and last name) for userid = 10, sessionid = 182\n",
    "    \n",
    "\n",
    "### 3. Give me every user name (first and last) in my music app history who listened to the song 'All Hands Against His Own'\n",
    "\n",
    "\n"
   ]
  },
  {
   "cell_type": "code",
   "execution_count": 11,
   "metadata": {
    "scrolled": false
   },
   "outputs": [],
   "source": [
    "# We have provided part of the code to set up the CSV file. Please complete the Apache Cassandra code below#\n",
    "file = 'event_datafile_new.csv'\n",
    "\n",
    "with open(file, encoding = 'utf8') as f:\n",
    "    csvreader = csv.reader(f)\n",
    "    next(csvreader) # skip header\n",
    "    for line in csvreader:\n",
    "        query = \"INSERT INTO music_app_history (sessionid, iteminsession, userid, artist, songtitle, firstname, lastname, length, gender, level, location) \"\n",
    "        query += \"VALUES (%s, %s, %s, %s, %s, %s, %s, %s, %s, %s, %s)\"\n",
    "        values = (\n",
    "        int(line[8]), int(line[3]), int(line[10]),\n",
    "        line[0], line[9], line[1], line[4],\n",
    "        float(line[5]), line[2], line[6],\n",
    "        line[7]\n",
    "        )\n",
    "\n",
    "        session.execute(query, values)"
   ]
  },
  {
   "cell_type": "code",
   "execution_count": 12,
   "metadata": {},
   "outputs": [],
   "source": [
    "# We have provided part of the code to set up the CSV file. Please complete the Apache Cassandra code below#\n",
    "file = 'event_datafile_new.csv'\n",
    "\n",
    "with open(file, encoding = 'utf8') as f:\n",
    "    csvreader = csv.reader(f)\n",
    "    next(csvreader) # skip header\n",
    "    for line in csvreader:\n",
    "        query = \"INSERT INTO songsbyusersession (sessionid, iteminsession, userid, artist, songtitle, firstname, lastname, length, gender, level, location) \"\n",
    "        query += \"VALUES (%s, %s, %s, %s, %s, %s, %s, %s, %s, %s, %s)\"\n",
    "        values = (\n",
    "        int(line[10]), int(line[8]), int(line[3]),\n",
    "        line[0], line[9], line[1], line[4],\n",
    "        float(line[5]), line[2], line[6],\n",
    "        line[7]\n",
    "        )\n",
    "\n",
    "        session.execute(query, values)"
   ]
  },
  {
   "cell_type": "code",
   "execution_count": 13,
   "metadata": {},
   "outputs": [],
   "source": [
    "# We have provided part of the code to set up the CSV file. Please complete the Apache Cassandra code below#\n",
    "file = 'event_datafile_new.csv'\n",
    "\n",
    "with open(file, encoding = 'utf8') as f:\n",
    "    csvreader = csv.reader(f)\n",
    "    next(csvreader) # skip header\n",
    "    for line in csvreader:\n",
    "        query = \"INSERT INTO usersbysong (songtitle, userid, firstname, lastname) \"\n",
    "        query += \"VALUES (%s, %s, %s, %s)\"\n",
    "        values = (\n",
    "        line[9], int(line[10]), line[1], line[4]\n",
    "        )\n",
    "\n",
    "        session.execute(query, values)"
   ]
  },
  {
   "cell_type": "markdown",
   "metadata": {},
   "source": [
    "#### Do a SELECT to verify that the data have been inserted into each table"
   ]
  },
  {
   "cell_type": "code",
   "execution_count": 14,
   "metadata": {
    "scrolled": true
   },
   "outputs": [
    {
     "name": "stdout",
     "output_type": "stream",
     "text": [
      "Faithless Music Matters (Mark Knight Dub) 495.3073\n"
     ]
    }
   ],
   "source": [
    "# TO-DO: Query 1: Give me the artist, song title, and song's length in the music app history that was heard during sessionId = 338, and itemInSession = 4\n",
    "query = \"SELECT artist, songtitle, length FROM music_app_history WHERE sessionid = 338 AND iteminsession = 4\"\n",
    "try:\n",
    "    rows = session.execute(query)\n",
    "except Exception as e:\n",
    "    print(e)\n",
    "\n",
    "for row in rows:\n",
    "    print(row.artist, row.songtitle, row.length)"
   ]
  },
  {
   "cell_type": "code",
   "execution_count": 15,
   "metadata": {},
   "outputs": [
    {
     "name": "stdout",
     "output_type": "stream",
     "text": [
      "T. Rex Ride A White Swan Lily Koch\n",
      "Sean Lennon Into The Sun Lily Koch\n",
      "BeyoncÃÂ© Halo Lily Koch\n",
      "Billy Currington Good Directions Lily Koch\n",
      "Kings Of Leon The Runner Lily Koch\n",
      "Aphex Twin Heliospan Lily Koch\n",
      "Lara & Reyes El Castillo Lily Koch\n",
      "Sugar Ray Someday (Remastered LP Version) Lily Koch\n",
      "Craig Chaquico Kyle's World Rylan George\n",
      "Juanes No Siento Penas Rylan George\n",
      "Kiuas The New Chapter Rylan George\n",
      "Carla Thomas A Woman's Love   (LP Version) Rylan George\n",
      "Soul For Real Candy Rain Rylan George\n",
      "Dwight Yoakam You're The One Layla Griffin\n",
      "Mickie Krause Orange TrÃÂ¤gt Nur Die MÃÂ¼llabfuhr (Go West) Layla Griffin\n",
      "Sonny & Cher What Now My Love (LP Version) Layla Griffin\n",
      "Robert Rich & Alio Die Sirena Layla Griffin\n",
      "Bebo Norman Perhaps She'll Wait Layla Griffin\n",
      "Scissor Sisters I Don't Feel Like Dancin' Layla Griffin\n",
      "The Romantics Talking In Your Sleep Jayden Graves\n",
      "Sia Little Black Sandals Jayden Graves\n",
      "Pat Martino El Hombre Jayden Graves\n",
      "Dio When A Woman Cries Jayden Graves\n",
      "Eddie Vedder Guaranteed Jayden Graves\n",
      "Symphony X Domination Ryan Smith\n",
      "Angels and Airwaves The Gift Jacqueline Lynch\n",
      "Arcade Fire Neighborhood #1 (Tunnels) Jacqueline Lynch\n",
      "Scorpions When The Smoke Is Going Down Jacqueline Lynch\n",
      "Nine Inch Nails Closer Jacqueline Lynch\n",
      "In Flames Like you better dead Jacqueline Lynch\n",
      "Ultra Vivid Scene Nausea Jacqueline Lynch\n",
      "PJ Harvey This Is Love Jacqueline Lynch\n",
      "DHT Feat. EdmÃÂ©e Listen To Your Heart Avery Watkins\n",
      "Stars Soft Revolution Avery Watkins\n",
      "Tree63 You Only (Acoustic Version) Avery Watkins\n",
      "Franz Ferdinand Call Me Matthew Jones\n",
      "Sara Bareilles Love Song Matthew Jones\n",
      "Mindy Smith Jolene (Bonus Track) Matthew Jones\n",
      "Death Cab for Cutie You Can Do Better Than Me (Album Version) Matthew Jones\n",
      "Steppenwolf Born To Be Wild Matthew Jones\n",
      "polarkreis 18 Dreamdancer Matthew Jones\n",
      "Wolfgang Gartner Fire Power Harper Barrett\n",
      "Train Hey_ Soul Sister Harper Barrett\n",
      "Fall Out Boy Dance_ Dance Harper Barrett\n",
      "M.I.A. Paper Planes Harper Barrett\n",
      "Sepultura Refuse/Resist (Explicit Album Version) Harper Barrett\n",
      "Arctic Monkeys You Know I'm No Good Aleena Kirby\n",
      "Freestylers Punks (Krafty Kuts Remix) Aleena Kirby\n",
      "At The Drive-In Sleepwalk Capsules Aleena Kirby\n",
      "Feist My Moon My Man Aleena Kirby\n",
      "Mark Lowry Get Together With The Lord (The Best Of Mark Lowry - Volume 2 Version) Aleena Kirby\n",
      "Africando Tierra Tradicional Aleena Kirby\n",
      "Aiden Breathless (Album Version) Aleena Kirby\n",
      "Alesana Seduction (album) Aleena Kirby\n",
      "Mudhoney Get Into Yours Aleena Kirby\n",
      "Juanes Para Tu Amor Aleena Kirby\n",
      "Red Hot Chili Peppers Turn It Again (Album Version) Aleena Kirby\n",
      "Chuck Berry Roll Over Beethoven Chloe Cuevas\n",
      "Jack Johnson Monsoon Chloe Cuevas\n",
      "Ginuwine I'm In Love Chloe Cuevas\n",
      "The Killers Read My Mind Chloe Cuevas\n",
      "Gotan Project Queremos Paz Chloe Cuevas\n",
      "Fonseca Te Mando Flores Chloe Cuevas\n",
      "Devendra Banhart Todo Los Dolores Chloe Cuevas\n",
      "Charlie Louvin I Think I'll Live Chloe Cuevas\n",
      "Metronomy Heartbreaker [Discodeine Remix] Chloe Cuevas\n",
      "Ry Cooder Stand By Me (LP Version) Chloe Cuevas\n",
      "The Specials Rat Race Chloe Cuevas\n",
      "The Waterboys Bury My Heart Chloe Cuevas\n",
      "Hannah Montana The Best Of Both Worlds Chloe Cuevas\n",
      "Eminem Deja Vu Chloe Cuevas\n",
      "Seine So far so long Chloe Cuevas\n",
      "Thelma Houston If This Was The Last Song Chloe Cuevas\n",
      "Dennis Ferrer Hey Hey Chloe Cuevas\n",
      "Bitter:Sweet Don't Forget To Breathe Chloe Cuevas\n",
      "Pixie Lott Boys And Girls (Album Version) Emily Benson\n",
      "Thrice Of Dust And Nations Emily Benson\n",
      "Antonio Carlos Jobim Ela E Carioca Emily Benson\n",
      "Juanes Bailala Emily Benson\n",
      "Wu-Tang Clan Dog Sh*t Amiya Davidson\n",
      "Smash Mouth All Star Kevin Arellano\n",
      "Pepper Slave Jaleah Hayes\n",
      "Phantom Planet Do The Panic Jaleah Hayes\n",
      "Harmonia Sehr kosmisch Hayden Brock\n",
      "The Pussycat Dolls Stickwitu Hayden Brock\n",
      "the bird and the bee Again & Again Jacob Klein\n",
      "Angels and Airwaves Sirens Jacob Klein\n",
      "Justin Bieber One Time Jacob Klein\n",
      "Slightly Stoopid Till It Gets Wet Jacob Klein\n",
      "J. Karjalainen & Mustat Lasit Sinisten tÃÂ¤htien alla Jacob Klein\n",
      "Jack Johnson Inaudible Melodies Jacob Klein\n",
      "South Park La Resistance (Medley) (LP Version) Jacob Klein\n",
      "Creed Weathered Joseph Gutierrez\n",
      "Fabolous Can't Let You Go featuring Mike Shorey & Lil' Mo  (Main LP Version) Tegan Levine\n",
      "Easy Star All-Stars Lovely Rita (feat. Bunny Rugs and U Roy) Tegan Levine\n",
      "Mad Caddies Backyard Tegan Levine\n",
      "Dominique A Le Courage Des Oiseaux Tegan Levine\n",
      "Symphony X Absinthe And Rue Tegan Levine\n",
      "Lady GaGa Teeth Tegan Levine\n",
      "Eliza Doolittle Police Car Tegan Levine\n",
      "The Killers Human Tegan Levine\n",
      "Die Mooskirchner Frisch und g'sund Tegan Levine\n",
      "Jill Scott Gimme Tegan Levine\n",
      "The All-American Rejects Your Star Tegan Levine\n",
      "Linda Ronstadt Birds Tegan Levine\n",
      "Eddie Boyd Third Degree Tegan Levine\n",
      "Enya To Go Beyond (II) Tegan Levine\n",
      "BlÃÂ¸f Aanzoek Zonder Ringen (met Kodo) Tegan Levine\n",
      "Underworld Teardrop Tegan Levine\n",
      "Simian Mobile Disco Clock Avery Martinez\n",
      "Rammstein Sehnsucht Avery Martinez\n",
      "4hero feat. FACE Stoke Up The Fire Kinsley Young\n",
      "Aerosmith Pink Kinsley Young\n",
      "Bomfunk MC's Rocking_ Just To Make Ya Move Kinsley Young\n",
      "Lily Allen LDN Kinsley Young\n",
      "Bobby Goldsboro Honey Kinsley Young\n",
      "Mondo Marcio Purple Weed Kinsley Young\n",
      "Counting Crows Mr. Jones Mohammad Rodriguez\n",
      "Max Richter Untitled (Figures) Mohammad Rodriguez\n",
      "Deadmau5 Arguru Mohammad Rodriguez\n",
      "Unkle Bob One By One Mohammad Rodriguez\n",
      "The Champs Tequila Sara Johnson\n",
      "Lily Allen Everybody's Changing Sara Johnson\n",
      "Five Finger Death Punch Stranger than Fiction Sara Johnson\n",
      "The Kills No Wow Sara Johnson\n",
      "Five Iron Frenzy Canada Kate Harrell\n",
      "Eminem / Dina Rae Superman Kate Harrell\n",
      "A Perfect Circle The Outsider Kate Harrell\n",
      "The Black Ghosts Anyway You Choose To Give It (Radio Edit) Kate Harrell\n",
      "ManÃÂ¡ Rayando el sol Kate Harrell\n",
      "Justin Bieber Somebody To Love Kate Harrell\n",
      "Pixies Where Is My Mind? Kate Harrell\n",
      "RÃÂ¶yksopp What Else Is There? Kate Harrell\n",
      "Orishas Atrevido Kate Harrell\n",
      "Steinski Product Of The Environment (Redfern Gowanus Electro Mix) Kate Harrell\n",
      "Mondo Marcio Il Solo Rimasto Kate Harrell\n",
      "Everything But The Girl My Baby Don't Love Me Kate Harrell\n",
      "Junior Vasquez Get Your Hands Off My Man (Nush Chocolate Factory Mix) Kate Harrell\n"
     ]
    }
   ],
   "source": [
    "## TO-DO: Query 2: Give me only the following: name of artist, song (sorted by itemInSession) and user (first and last name)\\\n",
    "## for userid = 10, sessionid = 182\n",
    "query = \"SELECT artist, songtitle, firstname, lastname FROM songsbyusersession WHERE userid = 10 AND sessionid > 1\"\n",
    "try:\n",
    "    rows = session.execute(query)\n",
    "except Exception as e:\n",
    "    print(e)\n",
    "\n",
    "for row in rows:\n",
    "    print(row.artist, row.songtitle, row.firstname, row.lastname)\n",
    "\n",
    "                    "
   ]
  },
  {
   "cell_type": "code",
   "execution_count": 16,
   "metadata": {},
   "outputs": [
    {
     "name": "stdout",
     "output_type": "stream",
     "text": [
      "Jacqueline Lynch\n",
      "Tegan Levine\n",
      "Sara Johnson\n"
     ]
    }
   ],
   "source": [
    "## TO-DO: Query 3: Give me every user name (first and last) in my music app history who listened to the song 'All Hands Against His Own'\n",
    "\n",
    "query = \"SELECT firstname, lastname FROM usersbysong WHERE songtitle = 'All Hands Against His Own'\"\n",
    "try:\n",
    "    rows = session.execute(query)\n",
    "except Exception as e:\n",
    "    print(e)\n",
    "\n",
    "for row in rows:\n",
    "    print(row.firstname, row.lastname)\n",
    "                   "
   ]
  },
  {
   "cell_type": "markdown",
   "metadata": {},
   "source": [
    "### COPY AND REPEAT THE ABOVE THREE CELLS FOR EACH OF THE THREE QUESTIONS"
   ]
  },
  {
   "cell_type": "code",
   "execution_count": 17,
   "metadata": {},
   "outputs": [
    {
     "name": "stdout",
     "output_type": "stream",
     "text": [
      "Faithless Music Matters (Mark Knight Dub) 495.3073\n"
     ]
    }
   ],
   "source": [
    "# TO-DO: Query 1: Give me the artist, song title, and song's length in the music app history that was heard during sessionId = 338, and itemInSession = 4\n",
    "query = \"SELECT artist, songtitle, length FROM music_app_history WHERE sessionid = 338 AND iteminsession = 4\"\n",
    "try:\n",
    "    rows = session.execute(query)\n",
    "except Exception as e:\n",
    "    print(e)\n",
    "\n",
    "for row in rows:\n",
    "    print(row.artist, row.songtitle, row.length)"
   ]
  },
  {
   "cell_type": "code",
   "execution_count": 18,
   "metadata": {},
   "outputs": [],
   "source": [
    "## TO-DO: Query 2: Give me only the following: name of artist, song (sorted by itemInSession) and user (first and last name)\\\n",
    "## for userid = 10, sessionid = 182\n",
    "query = \"SELECT artist, songtitle, firstname, lastname FROM songsbyusersession WHERE userid = 10 AND sessionid = 182\"\n",
    "try:\n",
    "    rows = session.execute(query)\n",
    "except Exception as e:\n",
    "    print(e)\n",
    "\n",
    "for row in rows:\n",
    "    print(row.artist, row.songtitle, row.firstname, row.lastname)\n",
    "\n",
    "                    "
   ]
  },
  {
   "cell_type": "code",
   "execution_count": 19,
   "metadata": {},
   "outputs": [],
   "source": [
    "#### Apparently there is no item which matches the criteria in the where clause in the above query."
   ]
  },
  {
   "cell_type": "code",
   "execution_count": 20,
   "metadata": {},
   "outputs": [
    {
     "name": "stdout",
     "output_type": "stream",
     "text": [
      "Jacqueline Lynch\n",
      "Tegan Levine\n",
      "Sara Johnson\n"
     ]
    }
   ],
   "source": [
    "## TO-DO: Query 3: Give me every user name (first and last) in my music app history who listened to the song 'All Hands Against His Own'\n",
    "\n",
    "query = \"SELECT firstname, lastname FROM usersbysong WHERE songtitle = 'All Hands Against His Own'\"\n",
    "try:\n",
    "    rows = session.execute(query)\n",
    "except Exception as e:\n",
    "    print(e)\n",
    "\n",
    "for row in rows:\n",
    "    print(row.firstname, row.lastname)\n",
    "\n",
    "                    "
   ]
  },
  {
   "cell_type": "markdown",
   "metadata": {},
   "source": [
    "### Drop the tables before closing out the sessions"
   ]
  },
  {
   "cell_type": "code",
   "execution_count": 21,
   "metadata": {},
   "outputs": [],
   "source": [
    "query = \"DROP table music_app_history\"\n",
    "try:\n",
    "    rows = session.execute(query)\n",
    "except Exception as e:\n",
    "    print(e)\n",
    "\n",
    "query = \"DROP table songsbyusersession\"\n",
    "try:\n",
    "    rows = session.execute(query)\n",
    "except Exception as e:\n",
    "    print(e)\n",
    "    \n",
    "\n",
    "query = \"DROP table usersbysong\"\n",
    "try:\n",
    "    rows = session.execute(query)\n",
    "except Exception as e:\n",
    "    print(e)"
   ]
  },
  {
   "cell_type": "markdown",
   "metadata": {},
   "source": [
    "### Close the session and cluster connection¶"
   ]
  },
  {
   "cell_type": "code",
   "execution_count": 22,
   "metadata": {},
   "outputs": [],
   "source": [
    "session.shutdown()\n",
    "cluster.shutdown()"
   ]
  },
  {
   "cell_type": "code",
   "execution_count": null,
   "metadata": {},
   "outputs": [],
   "source": []
  },
  {
   "cell_type": "code",
   "execution_count": null,
   "metadata": {},
   "outputs": [],
   "source": []
  }
 ],
 "metadata": {
  "kernelspec": {
   "display_name": "Python 3",
   "language": "python",
   "name": "python3"
  },
  "language_info": {
   "codemirror_mode": {
    "name": "ipython",
    "version": 3
   },
   "file_extension": ".py",
   "mimetype": "text/x-python",
   "name": "python",
   "nbconvert_exporter": "python",
   "pygments_lexer": "ipython3",
   "version": "3.6.3"
  }
 },
 "nbformat": 4,
 "nbformat_minor": 2
}
